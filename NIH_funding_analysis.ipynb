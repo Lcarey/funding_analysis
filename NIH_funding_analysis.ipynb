{
 "cells": [
  {
   "cell_type": "code",
   "execution_count": 1,
   "metadata": {},
   "outputs": [],
   "source": [
    "import pandas as pd\n",
    "import os,sys,codecs,csv,pickle,string\n",
    "from pprint import pprint\n",
    "import numpy as np\n",
    "from funding_analysis import *"
   ]
  },
  {
   "cell_type": "code",
   "execution_count": 2,
   "metadata": {
    "tags": []
   },
   "outputs": [
    {
     "output_type": "stream",
     "name": "stdout",
     "text": "[(2004, 'RePORTER_PRJABS_C_FY2004.csv'),\n (2005, 'RePORTER_PRJABS_C_FY2005.csv'),\n (2006, 'RePORTER_PRJABS_C_FY2006.csv'),\n (2007, 'RePORTER_PRJABS_C_FY2007.csv'),\n (2008, 'RePORTER_PRJABS_C_FY2008.csv'),\n (2009, 'RePORTER_PRJABS_C_FY2009.csv'),\n (2010, 'RePORTER_PRJABS_C_FY2010.csv'),\n (2011, 'RePORTER_PRJABS_C_FY2011.csv'),\n (2012, 'RePORTER_PRJABS_C_FY2012.csv'),\n (2013, 'RePORTER_PRJABS_C_FY2013.csv'),\n (2014, 'RePORTER_PRJABS_C_FY2014.csv'),\n (2015, 'RePORTER_PRJABS_C_FY2015.csv'),\n (2016, 'RePORTER_PRJABS_C_FY2016.csv'),\n (2017, 'RePORTER_PRJABS_C_FY2017.csv'),\n (2018, 'RePORTER_PRJABS_C_FY2018.csv'),\n (2019, 'RePORTER_PRJABS_C_FY2019.csv')]\n"
    }
   ],
   "source": [
    "# create a list of the CSV files and the relevant year\n",
    "csv_files = [f for f in os.listdir() if (f.endswith('.csv') and f.find('_PRJABS_')>-1) ]\n",
    "csv_files = [(d,s) for d in range(4000) for s in csv_files if s.endswith('FY'+str(d)+'.csv') ]\n",
    "pprint(csv_files)\n"
   ]
  },
  {
   "cell_type": "code",
   "execution_count": 3,
   "metadata": {
    "tags": []
   },
   "outputs": [
    {
     "output_type": "stream",
     "name": "stdout",
     "text": "Finished processing  2004\nFinished processing  2005\nFinished processing  2006\nFinished processing  2007\nFinished processing  2008\nFinished processing  2009\nFinished processing  2010\nFinished processing  2011\nFinished processing  2012\nFinished processing  2013\nFinished processing  2014\nFinished processing  2015\nFinished processing  2016\nFinished processing  2017\nFinished processing  2018\nFinished processing  2019\n[2004 2005 2006 2007 2008 2009 2010 2011 2012 2013 2014 2015 2016 2017\n 2018 2019]\n"
    }
   ],
   "source": [
    "# load the pickle files into two arrays: abstracts and years\n",
    "abstracts = list()\n",
    "years = list()\n",
    "for I in range(len(csv_files)):\n",
    "    (year,abstract_text_list_of_sets) = decompress_pickle(csv_files[I][1].replace('.csv',''))\n",
    "    abstracts.append(abstract_text_list_of_sets)\n",
    "    years.append(year)\n",
    "    print('Finished loading ', year)\n",
    "abstracts = np.array(abstracts)\n",
    "years = np.array(years)\n",
    "print(years)\n",
    "print('Saving...',end=' ')\n",
    "compressed_pickle('all_data___abstracts_years', (years,abstracts))\n",
    "print( 'finished saving.')"
   ]
  },
  {
   "cell_type": "code",
   "execution_count": 35,
   "metadata": {
    "tags": []
   },
   "outputs": [
    {
     "output_type": "stream",
     "name": "stdout",
     "text": "Found  12  processors.\n"
    }
   ],
   "source": [
    "# count the frequency of each model organism\n",
    "unique_years = sorted(set(years))\n",
    "keywords = ['yeast','cancer','zebrafish','elegans','crispr']\n",
    "for keyword in keywords:\n",
    "    for year in unique_years:\n",
    "        s,m,l = CountGrantsInOneYearWithWord( abstracts[years==year][0] , keyword)\n",
    "        print(year,keyword,m,sep='\\t')"
   ]
  },
  {
   "cell_type": "code",
   "execution_count": null,
   "metadata": {},
   "outputs": [],
   "source": []
  },
  {
   "cell_type": "code",
   "execution_count": null,
   "metadata": {},
   "outputs": [],
   "source": [
    "print(len(abstracts[years==year][0]))\n",
    "print(len(abstracts[years==year] ))\n",
    "print(list(abstracts[1][1])[:25])  # first 100 words in one abstract in one year"
   ]
  },
  {
   "cell_type": "code",
   "execution_count": null,
   "metadata": {},
   "outputs": [],
   "source": []
  }
 ],
 "metadata": {
  "kernelspec": {
   "display_name": "Python 3",
   "language": "python",
   "name": "python3"
  },
  "language_info": {
   "codemirror_mode": {
    "name": "ipython",
    "version": 3
   },
   "file_extension": ".py",
   "mimetype": "text/x-python",
   "name": "python",
   "nbconvert_exporter": "python",
   "pygments_lexer": "ipython3",
   "version": "3.8.3-final"
  }
 },
 "nbformat": 4,
 "nbformat_minor": 4
}