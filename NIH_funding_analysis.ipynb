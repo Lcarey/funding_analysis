{
 "cells": [
  {
   "cell_type": "code",
   "execution_count": 50,
   "metadata": {},
   "outputs": [],
   "source": [
    "import pandas as pd\n",
    "import os,sys,codecs,csv,pickle,string\n",
    "from pprint import pprint\n",
    "import numpy as np\n",
    "from funding_analysis import *\n",
    "import matplotlib.pyplot as plt\n",
    "import seaborn as sns"
   ]
  },
  {
   "cell_type": "code",
   "execution_count": 2,
   "metadata": {
    "tags": []
   },
   "outputs": [
    {
     "name": "stdout",
     "output_type": "stream",
     "text": [
      "[]\n"
     ]
    }
   ],
   "source": [
    "# create a list of the CSV files and the relevant year\n",
    "csv_files = [f for f in os.listdir() if (f.endswith('.csv') and f.find('_PRJABS_')>-1) ]\n",
    "csv_files = [(d,s) for d in range(4000) for s in csv_files if s.endswith('FY'+str(d)+'.csv') ]\n",
    "pprint(csv_files)\n"
   ]
  },
  {
   "cell_type": "code",
   "execution_count": null,
   "metadata": {
    "tags": []
   },
   "outputs": [],
   "source": [
    "# load the pickle files into two arrays: abstracts and years\n",
    "abstracts = list()\n",
    "years = list()\n",
    "for I in range(len(csv_files)):\n",
    "    (year,abstract_text_list_of_sets) = decompress_pickle(csv_files[I][1].replace('.csv',''))\n",
    "    abstracts.append(abstract_text_list_of_sets)\n",
    "    years.append(year)\n",
    "    print('Finished loading ', year)\n",
    "abstracts = np.array(abstracts)\n",
    "years = np.array(years)\n",
    "print(years)\n",
    "print('Saving...',end=' ')\n",
    "compressed_pickle('all_data___abstracts_years', (years,abstracts))\n",
    "print( 'finished saving.')"
   ]
  },
  {
   "cell_type": "code",
   "execution_count": 4,
   "metadata": {},
   "outputs": [],
   "source": [
    "# load single big pickle file w/data from all years\n",
    "filedir = '/Users/lcarey/Nutstore Files/Nutstore/funding_analysis/'\n",
    "(years,abstracts) = decompress_pickle(filedir + 'all_data___abstracts_years')\n"
   ]
  },
  {
   "cell_type": "code",
   "execution_count": 60,
   "metadata": {
    "tags": []
   },
   "outputs": [
    {
     "name": "stdout",
     "output_type": "stream",
     "text": [
      "2004\tyeast\t2.678209116732044\n",
      "2005\tyeast\t2.624805364009025\n",
      "2006\tyeast\t2.5473700762638574\n",
      "2007\tyeast\t2.4490466798159107\n",
      "2008\tyeast\t2.329778753741333\n",
      "2009\tyeast\t2.174079126875853\n",
      "2010\tyeast\t2.0356380169464283\n",
      "2011\tyeast\t1.9107117238141198\n",
      "2012\tyeast\t1.7945241855459741\n",
      "2013\tyeast\t1.6099124610099325\n",
      "2014\tyeast\t1.517709009593883\n",
      "2015\tyeast\t1.4383864931651644\n",
      "2016\tyeast\t1.3728658750790417\n",
      "2017\tyeast\t1.260007152879034\n",
      "2018\tyeast\t1.2288040636438335\n",
      "2019\tyeast\t1.174666734249075\n",
      "2004\tcancer\t12.812420157205764\n",
      "2005\tcancer\t14.415774254027774\n",
      "2006\tcancer\t15.38642975076657\n",
      "2007\tcancer\t16.58000119538581\n",
      "2008\tcancer\t18.15392482740987\n",
      "2009\tcancer\t18.74706684856753\n",
      "2010\tcancer\t18.983214310317116\n",
      "2011\tcancer\t19.60142423017229\n",
      "2012\tcancer\t21.34701122276418\n",
      "2013\tcancer\t19.87954404979229\n",
      "2014\tcancer\t19.8052369616966\n",
      "2015\tcancer\t19.67032810067277\n",
      "2016\tcancer\t19.557366683060494\n",
      "2017\tcancer\t19.37054664502462\n",
      "2018\tcancer\t23.03727496825278\n",
      "2019\tcancer\t20.012418267524964\n",
      "2004\tzebrafish\t0.5335377308865744\n",
      "2005\tzebrafish\t0.6133019797260797\n",
      "2006\tzebrafish\t0.6494221243808476\n",
      "2007\tzebrafish\t0.684358376666069\n",
      "2008\tzebrafish\t0.7866199407402951\n",
      "2009\tzebrafish\t0.7508867667121418\n",
      "2010\tzebrafish\t0.7979517325311717\n",
      "2011\tzebrafish\t0.8373221342584743\n",
      "2012\tzebrafish\t0.9294069964081565\n",
      "2013\tzebrafish\t1.0119449754919576\n",
      "2014\tzebrafish\t1.0358508259395514\n",
      "2015\tzebrafish\t1.0170120984444857\n",
      "2016\tzebrafish\t0.9990866296634581\n",
      "2017\tzebrafish\t1.0069052793749484\n",
      "2018\tzebrafish\t0.9710913572869202\n",
      "2019\tzebrafish\t0.9643164884180648\n",
      "2004\telegans\t0.7108826667869005\n",
      "2005\telegans\t0.7197559503002955\n",
      "2006\telegans\t0.7453416149068323\n",
      "2007\telegans\t0.7560815253122946\n",
      "2008\telegans\t0.7700753530765413\n",
      "2009\telegans\t0.7628922237380628\n",
      "2010\telegans\t0.7554708489287928\n",
      "2011\telegans\t0.7121150861450576\n",
      "2012\telegans\t0.7407303881147712\n",
      "2013\telegans\t0.7503342005778435\n",
      "2014\telegans\t0.7372141672076752\n",
      "2015\telegans\t0.751331971603651\n",
      "2016\telegans\t0.7700414529614277\n",
      "2017\telegans\t0.7991966766623566\n",
      "2018\telegans\t0.7681581633923458\n",
      "2019\telegans\t0.7210198185412338\n",
      "2004\tcrispr\t0.0\n",
      "2005\tcrispr\t0.0\n",
      "2006\tcrispr\t0.0015724506643604059\n",
      "2007\tcrispr\t0.0014942322634630327\n",
      "2008\tcrispr\t0.0\n",
      "2009\tcrispr\t0.001091405184174625\n",
      "2010\tcrispr\t0.0034443959677604536\n",
      "2011\tcrispr\t0.007825440507088544\n",
      "2012\tcrispr\t0.01397604505876927\n",
      "2013\tcrispr\t0.030185858643936237\n",
      "2014\tcrispr\t0.08079059366659454\n",
      "2015\tcrispr\t0.1856904112328415\n",
      "2016\tcrispr\t0.3442703576196164\n",
      "2017\tcrispr\t0.550221464139316\n",
      "2018\tcrispr\t0.689723861457633\n",
      "2019\tcrispr\t0.8920877895483805\n",
      "2004\tevolution\t1.4969114928536003\n",
      "2005\tevolution\t1.6619530331437287\n",
      "2006\tevolution\t1.7281232801320858\n",
      "2007\tevolution\t1.8603191680114757\n",
      "2008\tevolution\t1.9146600087235097\n",
      "2009\tevolution\t1.8979536152796725\n",
      "2010\tevolution\t1.8680107465154194\n",
      "2011\tevolution\t1.9067990035605755\n",
      "2012\tevolution\t1.9272966136042822\n",
      "2013\tevolution\t1.8384625335997358\n",
      "2014\tevolution\t1.9476303830339752\n",
      "2015\tevolution\t1.9726035224042624\n",
      "2016\tevolution\t2.0178458511908945\n",
      "2017\tevolution\t2.1321081735398497\n",
      "2018\tevolution\t2.137645974950823\n",
      "2019\tevolution\t2.1769983273353946\n",
      "2004\txenopus\t0.5801283496400499\n",
      "2005\txenopus\t0.576758079379707\n",
      "2006\txenopus\t0.5000393112666089\n",
      "2007\txenopus\t0.4617177694100771\n",
      "2008\txenopus\t0.42414306556168874\n",
      "2009\txenopus\t0.3612551159618008\n",
      "2010\txenopus\t0.3272176169372431\n",
      "2011\txenopus\t0.31432186036805654\n",
      "2012\txenopus\t0.28790652821064694\n",
      "2013\txenopus\t0.26879788411505123\n",
      "2014\txenopus\t0.26256942941643224\n",
      "2015\txenopus\t0.24711108571755058\n",
      "2016\txenopus\t0.24731258343286727\n",
      "2017\txenopus\t0.23246856859886106\n",
      "2018\txenopus\t0.21289310525136323\n",
      "2019\txenopus\t0.19514420396370824\n",
      "2004\tgenome\t3.991763980942934\n",
      "2005\tgenome\t4.447233785630303\n",
      "2006\tgenome\t4.645019262520638\n",
      "2007\tgenome\t4.659016197477736\n",
      "2008\tgenome\t4.92878307037466\n",
      "2009\tgenome\t4.897135061391541\n",
      "2010\tgenome\t5.048336356747572\n",
      "2011\tgenome\t5.040887926649538\n",
      "2012\tgenome\t5.3849701611438\n",
      "2013\tgenome\t5.269588466127154\n",
      "2014\tgenome\t5.503859193536752\n",
      "2015\tgenome\t5.796397606022083\n",
      "2016\tgenome\t6.198271622286236\n",
      "2017\tgenome\t6.350931249828055\n",
      "2018\tgenome\t6.632055974701825\n",
      "2019\tgenome\t6.636170104921689\n",
      "2004\tphase\t7.734042713076934\n",
      "2005\tphase\t8.277987861069624\n",
      "2006\tphase\t8.231779227926724\n",
      "2007\tphase\t8.177933177933177\n",
      "2008\tphase\t8.38509783867523\n",
      "2009\tphase\t8.142974079126876\n",
      "2010\tphase\t8.12188569197915\n",
      "2011\tphase\t8.203670131597825\n",
      "2012\tphase\t8.688907213036854\n",
      "2013\tphase\t8.467852060544208\n",
      "2014\tphase\t8.767222101998124\n",
      "2015\tphase\t8.750303532402977\n",
      "2016\tphase\t9.062038923628188\n",
      "2017\tphase\t8.95485432886737\n",
      "2018\tphase\t9.377256542416774\n",
      "2019\tphase\t9.33017385574535\n",
      "    year keyword  NumGrants  PctGrants  TotalGrantsThisYear\n",
      "0   2004   yeast       1782   2.678209                66537\n",
      "0   2005   yeast       1652   2.624805                62938\n",
      "0   2006   yeast       1620   2.547370                63595\n",
      "0   2007   yeast       1639   2.449047                66924\n",
      "0   2008   yeast       1549   2.329779                66487\n",
      "..   ...     ...        ...        ...                  ...\n",
      "0   2015   phase       6126   8.750304                70009\n",
      "0   2016   phase       6449   9.062039                71165\n",
      "0   2017   phase       6510   8.954854                72698\n",
      "0   2018   phase       7532   9.377257                80322\n",
      "0   2019   phase       7363   9.330174                78916\n",
      "\n",
      "[320 rows x 5 columns]\n"
     ]
    }
   ],
   "source": [
    "# count the frequency of each model organism\n",
    "unique_years = sorted(set(years))\n",
    "keywords = ['yeast','cancer','zebrafish','elegans','crispr','evolution','xenopus','genome','phase','autophagy']\n",
    "for keyword in keywords:\n",
    "    for year in unique_years:\n",
    "        s,p,l = CountGrantsInOneYearWithWord( abstracts[years==year][0] , keyword)\n",
    "        print(year,keyword,p,sep='\\t')\n",
    "        d = {'year':year, 'keyword':keyword, 'NumGrants':s, 'PctGrants':p, 'TotalGrantsThisYear':l }\n",
    "        tmp_df = pd.DataFrame(d,index=[0])\n",
    "        if 'df' in dir():\n",
    "            df = df.append(tmp_df)\n",
    "        else:\n",
    "            df = tmp_df\n",
    "            \n",
    "print(df)     \n",
    "\n"
   ]
  },
  {
   "cell_type": "code",
   "execution_count": 72,
   "metadata": {},
   "outputs": [
    {
     "name": "stdout",
     "output_type": "stream",
     "text": [
      "phage\t1.3647422575903492\n",
      "    year keyword  NumGrants  PctGrants  TotalGrantsThisYear\n",
      "0   2004   yeast       1782   2.678209                66537\n",
      "0   2005   yeast       1652   2.624805                62938\n",
      "0   2006   yeast       1620   2.547370                63595\n",
      "0   2007   yeast       1639   2.449047                66924\n",
      "0   2008   yeast       1549   2.329779                66487\n",
      "..   ...     ...        ...        ...                  ...\n",
      "0   2015   phage        151   0.215687                70009\n",
      "0   2016   phage        164   0.230450                71165\n",
      "0   2017   phage        156   0.214586                72698\n",
      "0   2018   phage        170   0.211648                80322\n",
      "0   2019   phage        176   0.223022                78916\n",
      "\n",
      "[432 rows x 5 columns]\n"
     ]
    }
   ],
   "source": [
    "# count the frequency of each model organism\n",
    "unique_years = sorted(set(years))\n",
    "#keywords = ['autophagy','coli','bacteria','antibiotics','antibiotic']\n",
    "keywords = ['phage']\n",
    "for keyword in keywords:\n",
    "    print(keyword,p,sep='\\t')\n",
    "    for year in unique_years:\n",
    "        s,p,l = CountGrantsInOneYearWithWord( abstracts[years==year][0] , keyword)\n",
    "        d = {'year':year, 'keyword':keyword, 'NumGrants':s, 'PctGrants':p, 'TotalGrantsThisYear':l }\n",
    "        tmp_df = pd.DataFrame(d,index=[0])\n",
    "        if 'df' in dir():\n",
    "            df = df.append(tmp_df)\n",
    "        else:\n",
    "            df = tmp_df\n",
    "            \n",
    "print(df)     "
   ]
  },
  {
   "cell_type": "code",
   "execution_count": 73,
   "metadata": {},
   "outputs": [
    {
     "data": {
      "text/plain": [
       "<matplotlib.axes._subplots.AxesSubplot at 0x382713b50>"
      ]
     },
     "execution_count": 73,
     "metadata": {},
     "output_type": "execute_result"
    },
    {
     "data": {
      "image/png": "[encoded data removed]",
      "text/plain": [
       "<Figure size 432x288 with 1 Axes>"
      ]
     },
     "metadata": {
      "needs_background": "light"
     },
     "output_type": "display_data"
    }
   ],
   "source": [
    "#G.plot(x='year',y='PctGrants',subplots=True,sharey=True)\n",
    "df2 = df[df.keyword != 'phase']\n",
    "df2 = df2[df2.keyword != 'cancer']\n",
    "df2 = df2[df2.keyword != 'genome']\n",
    "df2 = df2[df2.keyword != 'antibiotic']\n",
    "df2 = df2[df2.keyword != 'evolution']\n",
    "df2 = df2[df2.keyword != 'coli']\n",
    "df2 = df2[df2.keyword != 'bacteria']\n",
    "\n",
    "#df2 = df2.drop(columns=['NumGrants','TotalGrantsThisYear'])\n",
    "#df2 = df2.set_index(['year','keyword'])\n",
    "df2.head()\n",
    "sns.lineplot(data=df2,x='year',y='PctGrants',hue='keyword')\n",
    "#plt.show()\n",
    "#G = df2.groupby(['keyword','year'])\n",
    "#G.head()\n",
    "#G.plot()\n",
    "#plt.ylabel('% of NIH grants with the word')\n",
    "#plt.xlabel('Year')"
   ]
  },
  {
   "cell_type": "code",
   "execution_count": null,
   "metadata": {},
   "outputs": [],
   "source": [
    "print(len(abstracts[years==year][0]))\n",
    "print(len(abstracts[years==year] ))\n",
    "print(list(abstracts[1][1])[:25])  # first 100 words in one abstract in one year"
   ]
  },
  {
   "cell_type": "code",
   "execution_count": null,
   "metadata": {},
   "outputs": [],
   "source": []
  }
 ],
 "metadata": {
  "kernelspec": {
   "display_name": "Python 3",
   "language": "python",
   "name": "python3"
  },
  "language_info": {
   "codemirror_mode": {
    "name": "ipython",
    "version": 3
   },
   "file_extension": ".py",
   "mimetype": "text/x-python",
   "name": "python",
   "nbconvert_exporter": "python",
   "pygments_lexer": "ipython3",
   "version": "3.7.6"
  }
 },
 "nbformat": 4,
 "nbformat_minor": 4
}
