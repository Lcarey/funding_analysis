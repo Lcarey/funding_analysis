{
 "cells": [
  {
   "cell_type": "code",
   "execution_count": 1,
   "metadata": {},
   "outputs": [],
   "source": [
    "import pandas as pd\n",
    "import os,sys,codecs,csv,pickle,string\n",
    "from pprint import pprint\n",
    "import numpy as np\n",
    "from funding_analysis import *"
   ]
  },
  {
   "cell_type": "code",
   "execution_count": 2,
   "metadata": {
    "tags": []
   },
   "outputs": [
    {
     "name": "stdout",
     "output_type": "stream",
     "text": [
      "[]\n"
     ]
    }
   ],
   "source": [
    "# create a list of the CSV files and the relevant year\n",
    "csv_files = [f for f in os.listdir() if (f.endswith('.csv') and f.find('_PRJABS_')>-1) ]\n",
    "csv_files = [(d,s) for d in range(4000) for s in csv_files if s.endswith('FY'+str(d)+'.csv') ]\n",
    "pprint(csv_files)\n"
   ]
  },
  {
   "cell_type": "code",
   "execution_count": null,
   "metadata": {
    "tags": []
   },
   "outputs": [],
   "source": [
    "# load the pickle files into two arrays: abstracts and years\n",
    "abstracts = list()\n",
    "years = list()\n",
    "for I in range(len(csv_files)):\n",
    "    (year,abstract_text_list_of_sets) = decompress_pickle(csv_files[I][1].replace('.csv',''))\n",
    "    abstracts.append(abstract_text_list_of_sets)\n",
    "    years.append(year)\n",
    "    print('Finished loading ', year)\n",
    "abstracts = np.array(abstracts)\n",
    "years = np.array(years)\n",
    "print(years)\n",
    "print('Saving...',end=' ')\n",
    "compressed_pickle('all_data___abstracts_years', (years,abstracts))\n",
    "print( 'finished saving.')"
   ]
  },
  {
   "cell_type": "code",
   "execution_count": null,
   "metadata": {},
   "outputs": [],
   "source": [
    "# load single pickle file\n",
    "filedir = '/Users/lcarey/Nutstore Files/Nutstore/funding_analysis/'\n",
    "(years,abstracts) = decompress_pickle(filedir + 'all_data___abstracts_years')\n"
   ]
  },
  {
   "cell_type": "code",
   "execution_count": null,
   "metadata": {
    "tags": []
   },
   "outputs": [],
   "source": [
    "# count the frequency of each model organism\n",
    "unique_years = sorted(set(years))\n",
    "keywords = ['yeast','cancer','zebrafish','elegans','crispr']\n",
    "for keyword in keywords:\n",
    "    for year in unique_years:\n",
    "        s,p,l = CountGrantsInOneYearWithWord( abstracts[years==year][0] , keyword)\n",
    "        print(year,keyword,p,sep='\\t')\n",
    "        d = {'year':year, 'keyword':keyword, 'NumGrants':s, 'PctGrants':p, 'TotalGrantsThisYear':l }\n",
    "        tmp_df = pd.DataFrame(d,index=[0])\n",
    "        if 'df' in dir():\n",
    "            df = df.append(tmp_df)\n",
    "        else:\n",
    "            df = tmp_df\n",
    "            \n",
    "print(df)           "
   ]
  },
  {
   "cell_type": "code",
   "execution_count": null,
   "metadata": {},
   "outputs": [],
   "source": []
  },
  {
   "cell_type": "code",
   "execution_count": null,
   "metadata": {},
   "outputs": [],
   "source": [
    "print(len(abstracts[years==year][0]))\n",
    "print(len(abstracts[years==year] ))\n",
    "print(list(abstracts[1][1])[:25])  # first 100 words in one abstract in one year"
   ]
  },
  {
   "cell_type": "code",
   "execution_count": null,
   "metadata": {},
   "outputs": [],
   "source": []
  }
 ],
 "metadata": {
  "kernelspec": {
   "display_name": "Python 3",
   "language": "python",
   "name": "python3"
  },
  "language_info": {
   "codemirror_mode": {
    "name": "ipython",
    "version": 3
   },
   "file_extension": ".py",
   "mimetype": "text/x-python",
   "name": "python",
   "nbconvert_exporter": "python",
   "pygments_lexer": "ipython3",
   "version": "3.7.6"
  }
 },
 "nbformat": 4,
 "nbformat_minor": 4
}
